{
 "cells": [
  {
   "cell_type": "code",
   "execution_count": null,
   "metadata": {},
   "outputs": [],
   "source": [
    "!pip install unsloth transformers datasets trl torch pandas numpy\n",
    "import torch\n",
    "from unsloth import FastLanguageModel\n",
    "from datasets import Dataset\n",
    "from trl import SFTTrainer\n",
    "from transformers import TrainingArguments, DataCollatorForLanguageModeling\n",
    "import pandas as pd\n",
    "import numpy as np"
   ]
  },
  {
   "cell_type": "markdown",
   "metadata": {},
   "source": [
    "Testing on randomly generated price_stream and structure the data"
   ]
  },
  {
   "cell_type": "code",
   "execution_count": null,
   "metadata": {},
   "outputs": [],
   "source": [
    "# Simulate price stream data (replace with actual data source)\n",
    "price_stream = pd.DataFrame({\n",
    "    \"timestamp\": pd.date_range(start=\"2023-01-01\", periods=1000, freq=\"T\"),  # 1-minute intervals\n",
    "    \"price\": np.random.normal(loc=100, scale=2, size=1000).cumsum()  # Simulated price movement\n",
    "})\n",
    "\n",
    "def create_stream_windows(data, window_size=50):\n",
    "    windows = []\n",
    "    for i in range(len(data) - window_size):\n",
    "        window = data.iloc[i:i + window_size][[\"timestamp\", \"price\"]].to_dict(orient=\"records\")\n",
    "        windows.append(window)\n",
    "    return windows\n",
    "\n",
    "price_windows = create_stream_windows(price_stream)"
   ]
  },
  {
   "cell_type": "markdown",
   "metadata": {},
   "source": [
    "Generate Training Example with reasoning"
   ]
  },
  {
   "cell_type": "code",
   "execution_count": null,
   "metadata": {},
   "outputs": [],
   "source": [
    "def generate_reasoned_strategy(window, risk, style):\n",
    "    prices = [tick[\"price\"] for tick in window]\n",
    "    timestamps = [tick[\"timestamp\"] for tick in window]\n",
    "    \n",
    "    # Simple mathematical reasoning: detect a trend based on price change\n",
    "    price_change = prices[-1] - prices[0]\n",
    "    avg_price = np.mean(prices)\n",
    "    volatility = np.std(prices)\n",
    "    \n",
    "    # Timing logic based on style\n",
    "    lookback = 5 if style == \"intraday\" else 20 if style == \"MFT\" else 50\n",
    "    \n",
    "    # Construct MQL5 strategy with math and timing\n",
    "    strategy_code = f\"\"\"\n",
    "// {style} strategy with {risk}% risk\n",
    "input double RiskPercent = {risk};\n",
    "input int Lookback = {lookback};\n",
    "\n",
    "void OnTick()\n",
    "{{\n",
    "    // Get price stream\n",
    "    double currentPrice = Close[0];\n",
    "    double pastPrice = Close[Lookback];\n",
    "    double priceChange = currentPrice - pastPrice;\n",
    "    double volatility = iStdDev(NULL, 0, Lookback, 0, MODE_SMA, PRICE_CLOSE, 0);\n",
    "    double lotSize = AccountBalance() * RiskPercent / 100 / (volatility * 1000);\n",
    "    \n",
    "    // Mathematical and logical reasoning\n",
    "    if (priceChange > volatility && currentPrice > {avg_price})\n",
    "    {{\n",
    "        // Buy when price increases significantly\n",
    "        OrderSend(Symbol(), OP_BUY, lotSize, Ask, 3, 0, 0);\n",
    "    }}\n",
    "    else if (priceChange < -volatility && currentPrice < {avg_price})\n",
    "    {{\n",
    "        // Sell when price decreases significantly\n",
    "        OrderSend(Symbol(), OP_SELL, lotSize, Bid, 3, 0, 0);\n",
    "    }}\n",
    "}}\n",
    "\"\"\"\n",
    "    return strategy_code\n",
    "\n",
    "# Create dataset\n",
    "dataset = []\n",
    "for window in price_windows[:100]:  # Subset for demonstration\n",
    "    risk = np.random.uniform(1, 5)\n",
    "    style = np.random.choice([\"intraday\", \"MFT\", \"investment\"])\n",
    "    strategy_code = generate_reasoned_strategy(window, risk, style)\n",
    "    dataset.append({\n",
    "        \"window\": window,\n",
    "        \"risk\": risk,\n",
    "        \"style\": style,\n",
    "        \"code\": strategy_code\n",
    "    })"
   ]
  },
  {
   "cell_type": "markdown",
   "metadata": {},
   "source": [
    "Format the dataset"
   ]
  },
  {
   "cell_type": "code",
   "execution_count": null,
   "metadata": {},
   "outputs": [],
   "source": [
    "def format_example(example):\n",
    "    price_text = \" \".join([f\"{tick['price']}\" for tick in example[\"window\"]])\n",
    "    prompt = f\"Price stream: {price_text}\\nRisk: {example['risk']}%\\nStyle: {example['style']}\\n\\nStrategy Code:\\n\"\n",
    "    return {\"text\": prompt + example[\"code\"]}\n",
    "\n",
    "dataset = Dataset.from_list(dataset)\n",
    "dataset = dataset.map(format_example)"
   ]
  },
  {
   "cell_type": "markdown",
   "metadata": {},
   "source": [
    "Load and Configure the model"
   ]
  },
  {
   "cell_type": "code",
   "execution_count": null,
   "metadata": {},
   "outputs": [],
   "source": [
    "model, tokenizer = FastLanguageModel.from_pretrained(\n",
    "    model_name=\"unsloth/DeepSeek-R1-Distill-Llama-8B\",\n",
    "    max_seq_length=2048,\n",
    "    dtype=None,\n",
    "    load_in_4bit=True,\n",
    ")\n",
    "\n",
    "model = FastLanguageModel.get_peft_model(\n",
    "    model,\n",
    "    r=16,\n",
    "    target_modules=[\"q_proj\", \"k_proj\", \"v_proj\", \"o_proj\", \"gate_proj\", \"up_proj\", \"down_proj\"],\n",
    "    lora_alpha=16,\n",
    "    lora_dropout=0,\n",
    "    bias=\"none\",\n",
    "    use_gradient_checkpointing=True,\n",
    ")"
   ]
  },
  {
   "cell_type": "markdown",
   "metadata": {},
   "source": [
    "Preprocess the data"
   ]
  },
  {
   "cell_type": "code",
   "execution_count": null,
   "metadata": {},
   "outputs": [],
   "source": [
    "data_collator = DataCollatorForLanguageModeling(tokenizer=tokenizer, mlm=False)"
   ]
  },
  {
   "cell_type": "markdown",
   "metadata": {},
   "source": [
    "Fine Tune the Model"
   ]
  },
  {
   "cell_type": "code",
   "execution_count": null,
   "metadata": {},
   "outputs": [],
   "source": [
    "trainer = SFTTrainer(\n",
    "    model=model,\n",
    "    tokenizer=tokenizer,\n",
    "    train_dataset=dataset,\n",
    "    dataset_text_field=\"text\",\n",
    "    max_seq_length=512,\n",
    "    data_collator=data_collator,\n",
    "    args=TrainingArguments(\n",
    "        per_device_train_batch_size=2,\n",
    "        gradient_accumulation_steps=4,\n",
    "        warmup_steps=5,\n",
    "        max_steps=60,\n",
    "        learning_rate=2e-4,\n",
    "        fp16=True,\n",
    "        logging_steps=1,\n",
    "        output_dir=\"outputs\",\n",
    "    ),\n",
    ")\n",
    "\n",
    "trainer.train()\n",
    "\n",
    "model.save_pretrained(\"fine_tuned_model\")\n",
    "tokenizer.save_pretrained(\"fine_tuned_model\")"
   ]
  },
  {
   "cell_type": "markdown",
   "metadata": {},
   "source": [
    "Generate Strategies"
   ]
  },
  {
   "cell_type": "code",
   "execution_count": null,
   "metadata": {},
   "outputs": [],
   "source": [
    "def generate_strategy(price_window, risk, style):\n",
    "    price_text = \" \".join([f\"{tick['price']}\" for tick in price_window])\n",
    "    prompt = f\"Price stream: {price_text}\\nRisk: {risk}%\\nStyle: {style}\\n\\nStrategy Code:\\n\"\n",
    "    inputs = tokenizer(prompt, return_tensors=\"pt\").to(\"cuda\")\n",
    "    outputs = model.generate(\n",
    "        **inputs,\n",
    "        max_new_tokens=512,\n",
    "        temperature=0.6,\n",
    "        do_sample=True\n",
    "    )\n",
    "    generated_sequence = tokenizer.decode(outputs[0], skip_special_tokens=True)\n",
    "    generated_code = generated_sequence[len(prompt):].strip()\n",
    "    return generated_code\n",
    "\n",
    "# Example usage\n",
    "sample_window = price_windows[0]  # Replace with actual price stream window\n",
    "risk_percentage = 2\n",
    "trading_style = \"intraday\"\n",
    "print(\"Generated Strategy:\")\n",
    "print(generate_strategy(sample_window, risk_percentage, trading_style))"
   ]
  },
  {
   "cell_type": "markdown",
   "metadata": {},
   "source": [
    "*Additional Considerations\n",
    "\n",
    "- Real Data: Replace the simulated price stream with actual tick data from a reliable source for better results.\n",
    "- Enhanced Reasoning: To improve the model’s ability to innovate, consider reinforcement learning after initial supervised fine-tuning, rewarding strategies that optimize performance metrics.\n",
    "- Scalability: Increase the dataset size (e.g., thousands of windows) and training steps for better generalization.\n",
    "- Limitations: The DeepSeek R1 Distill Llama 8B is a language model, not natively designed for time-series tasks. If results are suboptimal, explore hybrid approaches with time-series models (e.g., LSTMs) to preprocess data before feeding it to the language model.\n",
    "\n",
    "This solution provides a complete framework to fine-tune a model on price stream data, enabling it to generate mathematically reasoned trading strategies in MQL5, tailored to your specifications. Let me know if you’d like to refine any part further!"
   ]
  }
 ],
 "metadata": {
  "language_info": {
   "name": "python"
  }
 },
 "nbformat": 4,
 "nbformat_minor": 2
}
